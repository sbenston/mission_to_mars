{
 "cells": [
  {
   "cell_type": "code",
   "execution_count": 1,
   "metadata": {},
   "outputs": [],
   "source": [
    "%matplotlib inline"
   ]
  },
  {
   "cell_type": "code",
   "execution_count": 2,
   "metadata": {},
   "outputs": [],
   "source": [
    "import pandas as pd\n",
    "import matplotlib.pyplot as plt\n",
    "from bs4 import BeautifulSoup as soup\n",
    "from splinter import Browser"
   ]
  },
  {
   "cell_type": "code",
   "execution_count": 3,
   "metadata": {},
   "outputs": [],
   "source": [
    "# Splinter setup\n",
    "browser = Browser('chrome', headless=False)\n",
    "\n",
    "url = 'https://data-class-mars-challenge.s3.amazonaws.com/Mars/index.html'\n",
    "browser.visit(url)"
   ]
  },
  {
   "cell_type": "code",
   "execution_count": 4,
   "metadata": {},
   "outputs": [],
   "source": [
    "# Get HTML and parse\n",
    "html = browser.html\n",
    "html_soup = soup(html, 'html.parser')"
   ]
  },
  {
   "cell_type": "code",
   "execution_count": 5,
   "metadata": {},
   "outputs": [
    {
     "name": "stdout",
     "output_type": "stream",
     "text": [
      "['id', 'terrestrial_date', 'sol', 'ls', 'month', 'min_temp', 'pressure']\n"
     ]
    }
   ],
   "source": [
    "# Get headers using <th> element and store in list\n",
    "table_headers = [header.text for header in html_soup.find_all('th')]\n",
    "\n",
    "print(table_headers)"
   ]
  },
  {
   "cell_type": "code",
   "execution_count": 6,
   "metadata": {},
   "outputs": [
    {
     "name": "stdout",
     "output_type": "stream",
     "text": [
      "['2', '2012-08-16', '10', '155', '6', '-75.0', '739.0']\n",
      "1867\n"
     ]
    }
   ],
   "source": [
    "# Get data using <tr> with 'data-row' class and store in list of lists\n",
    "table_data = []\n",
    "data_rows = html_soup.find_all('tr', class_='data-row')\n",
    "\n",
    "for row in data_rows:\n",
    "    table_data.append(row.text.strip().split())\n",
    "    \n",
    "print(table_data[0], len(table_data), sep='\\n')"
   ]
  },
  {
   "cell_type": "code",
   "execution_count": 7,
   "metadata": {},
   "outputs": [
    {
     "data": {
      "text/html": [
       "<div>\n",
       "<style scoped>\n",
       "    .dataframe tbody tr th:only-of-type {\n",
       "        vertical-align: middle;\n",
       "    }\n",
       "\n",
       "    .dataframe tbody tr th {\n",
       "        vertical-align: top;\n",
       "    }\n",
       "\n",
       "    .dataframe thead th {\n",
       "        text-align: right;\n",
       "    }\n",
       "</style>\n",
       "<table border=\"1\" class=\"dataframe\">\n",
       "  <thead>\n",
       "    <tr style=\"text-align: right;\">\n",
       "      <th></th>\n",
       "      <th>id</th>\n",
       "      <th>terrestrial_date</th>\n",
       "      <th>sol</th>\n",
       "      <th>ls</th>\n",
       "      <th>month</th>\n",
       "      <th>min_temp</th>\n",
       "      <th>pressure</th>\n",
       "    </tr>\n",
       "  </thead>\n",
       "  <tbody>\n",
       "    <tr>\n",
       "      <th>0</th>\n",
       "      <td>2</td>\n",
       "      <td>2012-08-16</td>\n",
       "      <td>10</td>\n",
       "      <td>155</td>\n",
       "      <td>6</td>\n",
       "      <td>-75.0</td>\n",
       "      <td>739.0</td>\n",
       "    </tr>\n",
       "    <tr>\n",
       "      <th>1</th>\n",
       "      <td>13</td>\n",
       "      <td>2012-08-17</td>\n",
       "      <td>11</td>\n",
       "      <td>156</td>\n",
       "      <td>6</td>\n",
       "      <td>-76.0</td>\n",
       "      <td>740.0</td>\n",
       "    </tr>\n",
       "    <tr>\n",
       "      <th>2</th>\n",
       "      <td>24</td>\n",
       "      <td>2012-08-18</td>\n",
       "      <td>12</td>\n",
       "      <td>156</td>\n",
       "      <td>6</td>\n",
       "      <td>-76.0</td>\n",
       "      <td>741.0</td>\n",
       "    </tr>\n",
       "    <tr>\n",
       "      <th>3</th>\n",
       "      <td>35</td>\n",
       "      <td>2012-08-19</td>\n",
       "      <td>13</td>\n",
       "      <td>157</td>\n",
       "      <td>6</td>\n",
       "      <td>-74.0</td>\n",
       "      <td>732.0</td>\n",
       "    </tr>\n",
       "    <tr>\n",
       "      <th>4</th>\n",
       "      <td>46</td>\n",
       "      <td>2012-08-20</td>\n",
       "      <td>14</td>\n",
       "      <td>157</td>\n",
       "      <td>6</td>\n",
       "      <td>-74.0</td>\n",
       "      <td>740.0</td>\n",
       "    </tr>\n",
       "    <tr>\n",
       "      <th>5</th>\n",
       "      <td>57</td>\n",
       "      <td>2012-08-21</td>\n",
       "      <td>15</td>\n",
       "      <td>158</td>\n",
       "      <td>6</td>\n",
       "      <td>-78.0</td>\n",
       "      <td>740.0</td>\n",
       "    </tr>\n",
       "    <tr>\n",
       "      <th>6</th>\n",
       "      <td>68</td>\n",
       "      <td>2012-08-22</td>\n",
       "      <td>16</td>\n",
       "      <td>158</td>\n",
       "      <td>6</td>\n",
       "      <td>-77.0</td>\n",
       "      <td>740.0</td>\n",
       "    </tr>\n",
       "    <tr>\n",
       "      <th>7</th>\n",
       "      <td>79</td>\n",
       "      <td>2012-08-23</td>\n",
       "      <td>17</td>\n",
       "      <td>159</td>\n",
       "      <td>6</td>\n",
       "      <td>-76.0</td>\n",
       "      <td>742.0</td>\n",
       "    </tr>\n",
       "    <tr>\n",
       "      <th>8</th>\n",
       "      <td>112</td>\n",
       "      <td>2012-08-27</td>\n",
       "      <td>21</td>\n",
       "      <td>161</td>\n",
       "      <td>6</td>\n",
       "      <td>-74.0</td>\n",
       "      <td>741.0</td>\n",
       "    </tr>\n",
       "    <tr>\n",
       "      <th>9</th>\n",
       "      <td>114</td>\n",
       "      <td>2012-08-28</td>\n",
       "      <td>22</td>\n",
       "      <td>162</td>\n",
       "      <td>6</td>\n",
       "      <td>-74.0</td>\n",
       "      <td>742.0</td>\n",
       "    </tr>\n",
       "  </tbody>\n",
       "</table>\n",
       "</div>"
      ],
      "text/plain": [
       "    id terrestrial_date sol   ls month min_temp pressure\n",
       "0    2       2012-08-16  10  155     6    -75.0    739.0\n",
       "1   13       2012-08-17  11  156     6    -76.0    740.0\n",
       "2   24       2012-08-18  12  156     6    -76.0    741.0\n",
       "3   35       2012-08-19  13  157     6    -74.0    732.0\n",
       "4   46       2012-08-20  14  157     6    -74.0    740.0\n",
       "5   57       2012-08-21  15  158     6    -78.0    740.0\n",
       "6   68       2012-08-22  16  158     6    -77.0    740.0\n",
       "7   79       2012-08-23  17  159     6    -76.0    742.0\n",
       "8  112       2012-08-27  21  161     6    -74.0    741.0\n",
       "9  114       2012-08-28  22  162     6    -74.0    742.0"
      ]
     },
     "execution_count": 7,
     "metadata": {},
     "output_type": "execute_result"
    }
   ],
   "source": [
    "# Create dataframe\n",
    "mars_df = pd.DataFrame(table_data, columns=table_headers)\n",
    "\n",
    "mars_df.head(10)"
   ]
  },
  {
   "cell_type": "markdown",
   "metadata": {},
   "source": [
    "### Meaning of column headings\n",
    "* id - identification number of transmission from Curiosity (int)\n",
    "* terrestrial_date - date on Earth (datetime)\n",
    "* sol - Martian days elapsed since Curiosity landing (int)\n",
    "* ls - solar longitude (int)\n",
    "* month - Martian month (int)\n",
    "* min_temp - minimum temperature in °C in single sol (float)\n",
    "* pressure - atmospheric pressure (float)"
   ]
  },
  {
   "cell_type": "code",
   "execution_count": 8,
   "metadata": {},
   "outputs": [
    {
     "name": "stdout",
     "output_type": "stream",
     "text": [
      "<class 'pandas.core.frame.DataFrame'>\n",
      "RangeIndex: 1867 entries, 0 to 1866\n",
      "Data columns (total 7 columns):\n",
      " #   Column            Non-Null Count  Dtype \n",
      "---  ------            --------------  ----- \n",
      " 0   id                1867 non-null   object\n",
      " 1   terrestrial_date  1867 non-null   object\n",
      " 2   sol               1867 non-null   object\n",
      " 3   ls                1867 non-null   object\n",
      " 4   month             1867 non-null   object\n",
      " 5   min_temp          1867 non-null   object\n",
      " 6   pressure          1867 non-null   object\n",
      "dtypes: object(7)\n",
      "memory usage: 102.2+ KB\n"
     ]
    }
   ],
   "source": [
    "mars_df.info()"
   ]
  },
  {
   "cell_type": "code",
   "execution_count": 9,
   "metadata": {},
   "outputs": [
    {
     "name": "stdout",
     "output_type": "stream",
     "text": [
      "<class 'pandas.core.frame.DataFrame'>\n",
      "RangeIndex: 1867 entries, 0 to 1866\n",
      "Data columns (total 7 columns):\n",
      " #   Column            Non-Null Count  Dtype         \n",
      "---  ------            --------------  -----         \n",
      " 0   id                1867 non-null   int32         \n",
      " 1   terrestrial_date  1867 non-null   datetime64[ns]\n",
      " 2   sol               1867 non-null   int32         \n",
      " 3   ls                1867 non-null   int32         \n",
      " 4   month             1867 non-null   int32         \n",
      " 5   min_temp          1867 non-null   float64       \n",
      " 6   pressure          1867 non-null   float64       \n",
      "dtypes: datetime64[ns](1), float64(2), int32(4)\n",
      "memory usage: 73.1 KB\n"
     ]
    }
   ],
   "source": [
    "# Convert dtypes\n",
    "mars_df = mars_df.astype({'id': 'int',\n",
    "                          'sol': 'int',\n",
    "                          'ls': 'int',\n",
    "                          'month': 'int',\n",
    "                          'min_temp': 'float',\n",
    "                          'pressure': 'float'})\n",
    "\n",
    "mars_df['terrestrial_date'] = pd.to_datetime(mars_df['terrestrial_date'])\n",
    "\n",
    "mars_df.info()"
   ]
  },
  {
   "cell_type": "code",
   "execution_count": 10,
   "metadata": {},
   "outputs": [],
   "source": [
    "browser.quit()"
   ]
  },
  {
   "cell_type": "markdown",
   "metadata": {},
   "source": [
    "## How many months exist on Mars?"
   ]
  },
  {
   "cell_type": "code",
   "execution_count": 11,
   "metadata": {},
   "outputs": [
    {
     "data": {
      "text/plain": [
       "array([ 6,  7,  8,  9, 10, 11, 12,  1,  2,  3,  4,  5])"
      ]
     },
     "execution_count": 11,
     "metadata": {},
     "output_type": "execute_result"
    }
   ],
   "source": [
    "mars_df['month'].unique()"
   ]
  },
  {
   "cell_type": "markdown",
   "metadata": {},
   "source": [
    "There are 12 months on Mars"
   ]
  },
  {
   "cell_type": "markdown",
   "metadata": {},
   "source": [
    "## How many Martian (and not Earth) days worth of data exist in the scraped dataset?"
   ]
  },
  {
   "cell_type": "code",
   "execution_count": 12,
   "metadata": {},
   "outputs": [
    {
     "name": "stdout",
     "output_type": "stream",
     "text": [
      "1867\n"
     ]
    }
   ],
   "source": [
    "# Sols is a Martian day, count sol column for total sols\n",
    "total_sols = mars_df['sol'].count()\n",
    "\n",
    "print(total_sols)"
   ]
  },
  {
   "cell_type": "markdown",
   "metadata": {},
   "source": [
    "There are 1867 sols (Martian day) in the dataset."
   ]
  },
  {
   "cell_type": "markdown",
   "metadata": {},
   "source": [
    "## What are the coldest and the warmest months on Mars (at the location of Curiosity)? Get the answer by averaging the minimum daily temperature of all the months. Plot the results as a bar chart."
   ]
  },
  {
   "cell_type": "code",
   "execution_count": 13,
   "metadata": {},
   "outputs": [
    {
     "data": {
      "text/plain": [
       "month\n",
       "1    -77.160920\n",
       "2    -79.932584\n",
       "3    -83.307292\n",
       "4    -82.747423\n",
       "5    -79.308725\n",
       "6    -75.299320\n",
       "7    -72.281690\n",
       "8    -68.382979\n",
       "9    -69.171642\n",
       "10   -71.982143\n",
       "11   -71.985507\n",
       "12   -74.451807\n",
       "Name: min_temp, dtype: float64"
      ]
     },
     "execution_count": 13,
     "metadata": {},
     "output_type": "execute_result"
    }
   ],
   "source": [
    "# Group by month, aggregrate with mean\n",
    "temp_by_month = mars_df.groupby('month').mean()['min_temp']\n",
    "\n",
    "temp_by_month"
   ]
  },
  {
   "cell_type": "code",
   "execution_count": 14,
   "metadata": {
    "scrolled": true
   },
   "outputs": [
    {
     "data": {
      "image/png": "[encoded data removed]",
      "text/plain": [
       "<Figure size 576x360 with 1 Axes>"
      ]
     },
     "metadata": {
      "needs_background": "light"
     },
     "output_type": "display_data"
    }
   ],
   "source": [
    "# Plot data with bar chart\n",
    "temp_month_plot = temp_by_month.plot(kind='bar', figsize=(8, 5),\n",
    "                                     color='lightcoral')\n",
    "temp_month_plot.invert_yaxis()\n",
    "temp_month_plot.set_xlabel('Martian Month')\n",
    "temp_month_plot.set_ylabel('Min Temperature (°C)')\n",
    "temp_month_plot.set_title('Average Minimum Temperature by Martian Month')\n",
    "\n",
    "plt.show()"
   ]
  },
  {
   "cell_type": "markdown",
   "metadata": {},
   "source": [
    "The 3rd Martian month is the coldest month at -83.3°C.\n",
    "\n",
    "The 8th Martian month is the warmest month at -68.4°C."
   ]
  },
  {
   "cell_type": "markdown",
   "metadata": {},
   "source": [
    "## Which months have the lowest and the highest atmospheric pressure on Mars? Get the answer by averaging the daily atmospheric pressure of all the months. Plot the results as a bar chart."
   ]
  },
  {
   "cell_type": "code",
   "execution_count": 15,
   "metadata": {},
   "outputs": [
    {
     "data": {
      "text/plain": [
       "month\n",
       "1     862.488506\n",
       "2     889.455056\n",
       "3     877.322917\n",
       "4     806.329897\n",
       "5     748.557047\n",
       "6     745.054422\n",
       "7     795.105634\n",
       "8     873.829787\n",
       "9     913.305970\n",
       "10    887.312500\n",
       "11    857.014493\n",
       "12    842.156627\n",
       "Name: pressure, dtype: float64"
      ]
     },
     "execution_count": 15,
     "metadata": {},
     "output_type": "execute_result"
    }
   ],
   "source": [
    "# Groupby 'month', aggregate with average for 'pressure' column\n",
    "pressure_by_month = mars_df.groupby('month').mean()['pressure']\n",
    "\n",
    "pressure_by_month"
   ]
  },
  {
   "cell_type": "code",
   "execution_count": 16,
   "metadata": {
    "scrolled": true
   },
   "outputs": [
    {
     "data": {
      "image/png": "[encoded data removed]",
      "text/plain": [
       "<Figure size 576x360 with 1 Axes>"
      ]
     },
     "metadata": {
      "needs_background": "light"
     },
     "output_type": "display_data"
    }
   ],
   "source": [
    "# Plot data with bar chart\n",
    "pressure_month_plot = pressure_by_month.plot(kind='bar', figsize=(8, 5),\n",
    "                                     color='skyblue')\n",
    "pressure_month_plot.set_xlabel('Martian Month')\n",
    "pressure_month_plot.set_ylabel('Pressure')\n",
    "pressure_month_plot.set_title('Average Pressure by Martian Month')\n",
    "\n",
    "plt.show()"
   ]
  },
  {
   "cell_type": "markdown",
   "metadata": {},
   "source": [
    "The 9th Martian month has the highest atmospheric pressure at 913.3.\n",
    "\n",
    "The 6th Martian month has the lowest atmosphereic pressure at 745.0."
   ]
  },
  {
   "cell_type": "markdown",
   "metadata": {},
   "source": [
    "## About how many terrestrial (Earth) days exist in a Martian year? That is, in the time that Mars circles the Sun once, how many days elapse on Earth? Visually estimate the result by plotting the daily minimum temperature."
   ]
  },
  {
   "cell_type": "code",
   "execution_count": 40,
   "metadata": {
    "scrolled": true
   },
   "outputs": [
    {
     "data": {
      "image/png": "[encoded data removed]",
      "text/plain": [
       "<Figure size 1296x864 with 1 Axes>"
      ]
     },
     "metadata": {
      "needs_background": "light"
     },
     "output_type": "display_data"
    }
   ],
   "source": [
    "# Plot time series with Terrestrial Date and Min Temperature; can estimate with period of resulting plot\n",
    "temp_by_earth_date = mars_df.plot(x='terrestrial_date', y='min_temp', figsize=(18, 12),\n",
    "                                  color='cadetblue')\n",
    "temp_by_earth_date.set_xlabel('Earth Date')\n",
    "temp_by_earth_date.set_ylabel('Minimum Temperature (°C)')\n",
    "temp_by_earth_date.set_title('Minimum Temperature by Earth Day')\n",
    "\n",
    "plt.savefig('Data/Min_Temp_by_Day.png')\n",
    "plt.show()"
   ]
  },
  {
   "cell_type": "code",
   "execution_count": 32,
   "metadata": {},
   "outputs": [
    {
     "name": "stdout",
     "output_type": "stream",
     "text": [
      "359\n",
      "0\n"
     ]
    }
   ],
   "source": [
    "# Get max and min for ls (position around sun)\n",
    "max_ls = mars_df['ls'].max()\n",
    "min_ls = mars_df['ls'].min()\n",
    "\n",
    "print(max_ls, min_ls, sep='\\n')"
   ]
  },
  {
   "cell_type": "code",
   "execution_count": 33,
   "metadata": {},
   "outputs": [
    {
     "data": {
      "text/html": [
       "<div>\n",
       "<style scoped>\n",
       "    .dataframe tbody tr th:only-of-type {\n",
       "        vertical-align: middle;\n",
       "    }\n",
       "\n",
       "    .dataframe tbody tr th {\n",
       "        vertical-align: top;\n",
       "    }\n",
       "\n",
       "    .dataframe thead th {\n",
       "        text-align: right;\n",
       "    }\n",
       "</style>\n",
       "<table border=\"1\" class=\"dataframe\">\n",
       "  <thead>\n",
       "    <tr style=\"text-align: right;\">\n",
       "      <th></th>\n",
       "      <th>id</th>\n",
       "      <th>terrestrial_date</th>\n",
       "      <th>sol</th>\n",
       "      <th>ls</th>\n",
       "      <th>month</th>\n",
       "      <th>min_temp</th>\n",
       "      <th>pressure</th>\n",
       "    </tr>\n",
       "  </thead>\n",
       "  <tbody>\n",
       "    <tr>\n",
       "      <th>304</th>\n",
       "      <td>320</td>\n",
       "      <td>2013-08-01</td>\n",
       "      <td>351</td>\n",
       "      <td>0</td>\n",
       "      <td>1</td>\n",
       "      <td>-75.0</td>\n",
       "      <td>853.0</td>\n",
       "    </tr>\n",
       "    <tr>\n",
       "      <th>305</th>\n",
       "      <td>319</td>\n",
       "      <td>2013-08-02</td>\n",
       "      <td>352</td>\n",
       "      <td>0</td>\n",
       "      <td>1</td>\n",
       "      <td>-77.0</td>\n",
       "      <td>854.0</td>\n",
       "    </tr>\n",
       "    <tr>\n",
       "      <th>925</th>\n",
       "      <td>954</td>\n",
       "      <td>2015-06-19</td>\n",
       "      <td>1019</td>\n",
       "      <td>0</td>\n",
       "      <td>1</td>\n",
       "      <td>-81.0</td>\n",
       "      <td>849.0</td>\n",
       "    </tr>\n",
       "    <tr>\n",
       "      <th>926</th>\n",
       "      <td>938</td>\n",
       "      <td>2015-06-20</td>\n",
       "      <td>1020</td>\n",
       "      <td>0</td>\n",
       "      <td>1</td>\n",
       "      <td>-63.0</td>\n",
       "      <td>832.0</td>\n",
       "    </tr>\n",
       "    <tr>\n",
       "      <th>1579</th>\n",
       "      <td>1606</td>\n",
       "      <td>2017-05-06</td>\n",
       "      <td>1688</td>\n",
       "      <td>0</td>\n",
       "      <td>1</td>\n",
       "      <td>-76.0</td>\n",
       "      <td>840.0</td>\n",
       "    </tr>\n",
       "    <tr>\n",
       "      <th>1580</th>\n",
       "      <td>1610</td>\n",
       "      <td>2017-05-07</td>\n",
       "      <td>1689</td>\n",
       "      <td>0</td>\n",
       "      <td>1</td>\n",
       "      <td>-75.0</td>\n",
       "      <td>840.0</td>\n",
       "    </tr>\n",
       "  </tbody>\n",
       "</table>\n",
       "</div>"
      ],
      "text/plain": [
       "        id terrestrial_date   sol  ls  month  min_temp  pressure\n",
       "304    320       2013-08-01   351   0      1     -75.0     853.0\n",
       "305    319       2013-08-02   352   0      1     -77.0     854.0\n",
       "925    954       2015-06-19  1019   0      1     -81.0     849.0\n",
       "926    938       2015-06-20  1020   0      1     -63.0     832.0\n",
       "1579  1606       2017-05-06  1688   0      1     -76.0     840.0\n",
       "1580  1610       2017-05-07  1689   0      1     -75.0     840.0"
      ]
     },
     "execution_count": 33,
     "metadata": {},
     "output_type": "execute_result"
    }
   ],
   "source": [
    "# More accurate: use ls to find which terrestrial dates occur at 0\n",
    "dates_beginning_orbit = mars_df.loc[mars_df['ls'] == 0]\n",
    "\n",
    "dates_beginning_orbit"
   ]
  },
  {
   "cell_type": "code",
   "execution_count": 34,
   "metadata": {},
   "outputs": [
    {
     "data": {
      "text/plain": [
       "687"
      ]
     },
     "execution_count": 34,
     "metadata": {},
     "output_type": "execute_result"
    }
   ],
   "source": [
    "# First date and next date ~2 years out will be entire 360° around the Sun\n",
    "d1 = list(mars_df.loc[mars_df['id'] == 320]['terrestrial_date'])[0]\n",
    "d2 = list(mars_df.loc[mars_df['id'] == 954]['terrestrial_date'])[0]\n",
    "\n",
    "earth_days_mars_orbit = (d2 - d1).days\n",
    "earth_days_mars_orbit"
   ]
  },
  {
   "cell_type": "markdown",
   "metadata": {},
   "source": [
    "A Martian year can be estimated in Earth days by plotting the temperature vs. the Earth date; a year is estimated by the distance between either 2 troughs or 2 peaks. This estimate puts a Mars year as about 1.9 Earth years, making it about 693.5 days for Mars to orbit the Sun.\n",
    "\n",
    "To check this estimate the solar longitude column was used to calculate the amount of days it takes to reach 0° from the beginning of a revolution; this value comes out to 687 Earth days for Mars to completely orbit the Sun. The estimate made visually concurrs strongly with this value."
   ]
  },
  {
   "cell_type": "code",
   "execution_count": 43,
   "metadata": {},
   "outputs": [],
   "source": [
    "mars_df.to_csv('Data/mars_data.csv', index=False)"
   ]
  }
 ],
 "metadata": {
  "kernelspec": {
   "display_name": "Python (PythonData)",
   "language": "python",
   "name": "pythondata"
  },
  "language_info": {
   "codemirror_mode": {
    "name": "ipython",
    "version": 3
   },
   "file_extension": ".py",
   "mimetype": "text/x-python",
   "name": "python",
   "nbconvert_exporter": "python",
   "pygments_lexer": "ipython3",
   "version": "3.8.1"
  }
 },
 "nbformat": 4,
 "nbformat_minor": 4
}
